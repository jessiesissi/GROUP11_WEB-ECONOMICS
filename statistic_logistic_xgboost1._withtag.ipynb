{
 "cells": [
  {
   "cell_type": "code",
   "execution_count": 8,
   "metadata": {
    "collapsed": true
   },
   "outputs": [],
   "source": [
    "%matplotlib inline\n",
    "\n",
    "import os\n",
    "\n",
    "import numpy as np\n",
    "import pandas as pd\n",
    "from collections import Counter\n",
    "import matplotlib.pyplot as plt\n",
    "import numpy as np\n",
    "import h5py\n",
    "import matplotlib.pyplot as plt\n",
    "from numpy.random import RandomState\n",
    "from numpy import unravel_index\n",
    "\n",
    "\n",
    "import time\n"
   ]
  },
  {
   "cell_type": "markdown",
   "metadata": {},
   "source": [
    "## preprocess ##"
   ]
  },
  {
   "cell_type": "code",
   "execution_count": null,
   "metadata": {
    "collapsed": true
   },
   "outputs": [],
   "source": [
    "# ori_train = pd.read_csv('train.csv')\n",
    "# ori_test = pd.read_csv('test.csv')\n",
    "# ori_val = pd.read_csv('validation.csv')\n",
    "# def split_useragent_os(data):\n",
    "#     return data.split('_')[0]\n",
    "# def split_useragent_b(data):\n",
    "#     return data.split('_')[1]\n",
    "# def split_useragent(dataframe):\n",
    "#     dataframe['os'] = dataframe['useragent'].apply(split_useragent_os)\n",
    "#     dataframe['browser'] = dataframe['useragent'].apply(split_useragent_b)\n",
    "#     dataframe.drop(['useragent'], axis=1, inplace=True)\n",
    "\n",
    "# split_useragent(ori_train)\n",
    "# split_useragent(ori_test)\n",
    "# split_useragent(ori_val)\n",
    "\n",
    "# ori_train['logtype']='2'\n",
    "# ori_test['logtype']='2'\n",
    "# ori_val['logtype']='2'\n",
    "\n",
    "# ori_train.to_csv('train1.csv')\n",
    "# ori_test.to_csv('test1.csv')\n",
    "# ori_val.to_csv('val1.csv')\n",
    "# df_train_original = pd.read_csv('train.csv')\n",
    "# df_validation_original = pd.read_csv('validation.csv')\n",
    "# df_test_original = pd.read_csv('test.csv')\n",
    "\n",
    "# # split os and browser\n",
    "# def split_useragent_os(data):\n",
    "#     return data.split('_')[0]\n",
    "# def split_useragent_b(data):\n",
    "#     return data.split('_')[1]\n",
    "# def split_useragent(dataframe):\n",
    "#     dataframe['os'] = dataframe['useragent'].apply(split_useragent_os)\n",
    "#     dataframe['browser'] = dataframe['useragent'].apply(split_useragent_b)\n",
    "#     dataframe.drop(['useragent'], axis=1, inplace=True)\n",
    "\n",
    "# split_useragent(df_train_original)\n",
    "# split_useragent(df_validation_original)\n",
    "# split_useragent(df_test_original)\n",
    "\n",
    "# #drop meaningless columns and the columns not in testdata\n",
    "# col_to_drop1 = ['city','slotid','slotprice','IP','domain','usertag','creative','bidid','userid','url','urlid','bidprice','payprice','keypage']\n",
    "# test_to_drop = ['city','slotid','slotprice','IP','domain','usertag','creative','bidid','userid','url','urlid','keypage']\n",
    "# df_train = df_train_original.drop(col_to_drop1, axis=1)\n",
    "# df_validation = df_validation_original.drop(col_to_drop1, axis=1)\n",
    "# df_test = df_test_original.drop(test_to_drop, axis=1)\n",
    "\n",
    "# #make the catagorical data into one hot format : eg monday ->[ 1, 0, 0 ,0 ,0 ,0 ,0 ]\n",
    "# def onehot(onehot_df, column_name):\n",
    "#     dummies = pd.get_dummies(onehot_df[column_name],prefix=column_name)\n",
    "#     onehot_df = onehot_df.join(dummies)\n",
    "#     onehot_df = onehot_df.drop([column_name], axis=1)\n",
    "#     return onehot_df\n",
    "# column_to_onehot = ['weekday','hour','region','adexchange','slotformat','os','browser','slotwidth','slotheight','slotvisibility']\n",
    "# for col_name in column_to_onehot:\n",
    "#     df_train = onehot(df_train, col_name)\n",
    "#     df_validation = onehot(df_validation, col_name)\n",
    "#     x_test = onehot(df_test, col_name)\n",
    "\n",
    "# x_train = df_train.drop('click',axis =1 )\n",
    "# x_val   = df_validation.drop('click',axis =1 )\n",
    "\n",
    "# print(x_train.shape)\n",
    "# print(x_val.shape)\n",
    "# print(x_test.shape)\n",
    "\n",
    "# x_train.to_csv('train_notag.csv')\n",
    "# x_val.to_csv('val_notag.csv')\n",
    "# x_test.to_csv('test_notag.csv')\n",
    "# print('save data_notag train val test end')\n",
    "    \n",
    "# usertag_train = pd.read_csv('tag_train.csv')\n",
    "# usertag_test = pd.read_csv('tag_test.csv')\n",
    "# usertag_val = pd.read_csv('tag_val.csv')\n",
    "\n",
    "# drop_train = pd.concat([df_train, usertag_train], axis=1, join_axes=[df_train.index])\n",
    "# drop_val = pd.concat([df_validation, usertag_val], axis=1, join_axes=[df_validation.index])\n",
    "# x_test = pd.concat([df_test, usertag_test], axis=1, join_axes=[df_test.index])\n",
    "# print('join usertag end')\n",
    "\n",
    "# x_train = drop_train.drop('click',axis =1 )\n",
    "# x_val   = drop_val.drop('click',axis =1 )\n",
    "\n",
    "# print(x_train.shape)\n",
    "# print(x_val.shape)\n",
    "# print(x_test.shape)\n",
    "\n",
    "# x_train.to_csv('train5.csv')\n",
    "# x_val.to_csv('val5.csv')\n",
    "# x_test.to_csv('test5.csv')\n",
    "# print('save model_used train val test end')"
   ]
  },
  {
   "cell_type": "code",
   "execution_count": 10,
   "metadata": {
    "scrolled": true
   },
   "outputs": [],
   "source": [
    "# ori_train = pd.read_csv('train.csv')\n",
    "# ori_test = pd.read_csv('test.csv')\n",
    "# ori_val = pd.read_csv('validation.csv')\n",
    "\n",
    "# x_train = pd.read_csv('train4.csv')\n",
    "# x_test = pd.read_csv('test4.csv')\n",
    "# x_val = pd.read_csv('val4.csv')\n",
    "\n",
    "x_train = pd.read_csv('train5.csv')\n",
    "x_test = pd.read_csv('test5.csv')\n",
    "x_val = pd.read_csv('val5.csv')\n",
    "\n",
    "ori_train = pd.read_csv('train1.csv')\n",
    "ori_test = pd.read_csv('test1.csv')\n",
    "ori_val = pd.read_csv('val1.csv')"
   ]
  },
  {
   "cell_type": "code",
   "execution_count": 5,
   "metadata": {},
   "outputs": [
    {
     "name": "stdout",
     "output_type": "stream",
     "text": [
      "(2430981, 29)\n",
      "(303925, 29)\n",
      "(303375, 26)\n"
     ]
    }
   ],
   "source": [
    "print(ori_train.shape)\n",
    "print(ori_val.shape)\n",
    "print(ori_test.shape)"
   ]
  },
  {
   "cell_type": "code",
   "execution_count": 6,
   "metadata": {},
   "outputs": [
    {
     "data": {
      "text/plain": [
       "Index(['Unnamed: 0', 'Unnamed: 0.1', 'click', 'weekday', 'hour', 'bidid',\n",
       "       'userid', 'IP', 'region', 'city', 'adexchange', 'domain', 'url',\n",
       "       'urlid', 'slotid', 'slotwidth', 'slotheight', 'slotvisibility',\n",
       "       'slotformat', 'slotprice', 'creative', 'bidprice', 'payprice',\n",
       "       'keypage', 'advertiser', 'usertag', 'os', 'browser', 'logtype'],\n",
       "      dtype='object')"
      ]
     },
     "execution_count": 6,
     "metadata": {},
     "output_type": "execute_result"
    }
   ],
   "source": [
    "ori_train.columns"
   ]
  },
  {
   "cell_type": "markdown",
   "metadata": {},
   "source": [
    "## basic statistic ##"
   ]
  },
  {
   "cell_type": "code",
   "execution_count": 7,
   "metadata": {
    "collapsed": true
   },
   "outputs": [],
   "source": [
    "def sta_eva(train):\n",
    "    dataset_stats = pd.DataFrame()\n",
    "    dataset_stats['advertiser'] = np.sort(train.advertiser.unique())\n",
    "    dataset_stats['impressions'] = train.groupby('advertiser').size().values\n",
    "    click = train.groupby('advertiser').click.value_counts()\n",
    "    dataset_stats['clicks'] = click.iloc[click.index.get_level_values('click') == 1].values  \n",
    "    temp = train.groupby('advertiser').payprice.sum().values\n",
    "    dataset_stats['cost'] = (temp/1000).round()\n",
    "    dataset_stats['CTR'] = (((dataset_stats.clicks / dataset_stats.impressions) * 100).round(3)).astype(str) + '%'\n",
    "    dataset_stats['CPM'] = (((dataset_stats.cost / dataset_stats.impressions)*1000).round(2)).astype(str)\n",
    "    dataset_stats['eCPC'] = ((dataset_stats.cost / dataset_stats.clicks).round(2)).astype(str)\n",
    "\n",
    "    dataset_stats = dataset_stats.set_index('advertiser', inplace=False, drop=True)\n",
    "    return dataset_stats"
   ]
  },
  {
   "cell_type": "code",
   "execution_count": 8,
   "metadata": {
    "scrolled": true
   },
   "outputs": [
    {
     "data": {
      "text/html": [
       "<div>\n",
       "<style>\n",
       "    .dataframe thead tr:only-child th {\n",
       "        text-align: right;\n",
       "    }\n",
       "\n",
       "    .dataframe thead th {\n",
       "        text-align: left;\n",
       "    }\n",
       "\n",
       "    .dataframe tbody tr th {\n",
       "        vertical-align: top;\n",
       "    }\n",
       "</style>\n",
       "<table border=\"1\" class=\"dataframe\">\n",
       "  <thead>\n",
       "    <tr style=\"text-align: right;\">\n",
       "      <th></th>\n",
       "      <th>impressions</th>\n",
       "      <th>clicks</th>\n",
       "      <th>cost</th>\n",
       "      <th>CTR</th>\n",
       "      <th>CPM</th>\n",
       "      <th>eCPC</th>\n",
       "    </tr>\n",
       "    <tr>\n",
       "      <th>advertiser</th>\n",
       "      <th></th>\n",
       "      <th></th>\n",
       "      <th></th>\n",
       "      <th></th>\n",
       "      <th></th>\n",
       "      <th></th>\n",
       "    </tr>\n",
       "  </thead>\n",
       "  <tbody>\n",
       "    <tr>\n",
       "      <th>1458</th>\n",
       "      <td>492353</td>\n",
       "      <td>385</td>\n",
       "      <td>33969.0</td>\n",
       "      <td>0.078%</td>\n",
       "      <td>68.99</td>\n",
       "      <td>88.23</td>\n",
       "    </tr>\n",
       "    <tr>\n",
       "      <th>2259</th>\n",
       "      <td>133673</td>\n",
       "      <td>43</td>\n",
       "      <td>12428.0</td>\n",
       "      <td>0.032%</td>\n",
       "      <td>92.97</td>\n",
       "      <td>289.02</td>\n",
       "    </tr>\n",
       "    <tr>\n",
       "      <th>2261</th>\n",
       "      <td>110122</td>\n",
       "      <td>36</td>\n",
       "      <td>9874.0</td>\n",
       "      <td>0.033%</td>\n",
       "      <td>89.66</td>\n",
       "      <td>274.28</td>\n",
       "    </tr>\n",
       "    <tr>\n",
       "      <th>2821</th>\n",
       "      <td>211366</td>\n",
       "      <td>131</td>\n",
       "      <td>18828.0</td>\n",
       "      <td>0.062%</td>\n",
       "      <td>89.08</td>\n",
       "      <td>143.73</td>\n",
       "    </tr>\n",
       "    <tr>\n",
       "      <th>2997</th>\n",
       "      <td>49829</td>\n",
       "      <td>217</td>\n",
       "      <td>3129.0</td>\n",
       "      <td>0.435%</td>\n",
       "      <td>62.79</td>\n",
       "      <td>14.42</td>\n",
       "    </tr>\n",
       "    <tr>\n",
       "      <th>3358</th>\n",
       "      <td>264956</td>\n",
       "      <td>202</td>\n",
       "      <td>22447.0</td>\n",
       "      <td>0.076%</td>\n",
       "      <td>84.72</td>\n",
       "      <td>111.12</td>\n",
       "    </tr>\n",
       "    <tr>\n",
       "      <th>3386</th>\n",
       "      <td>455041</td>\n",
       "      <td>320</td>\n",
       "      <td>34932.0</td>\n",
       "      <td>0.07%</td>\n",
       "      <td>76.77</td>\n",
       "      <td>109.16</td>\n",
       "    </tr>\n",
       "    <tr>\n",
       "      <th>3427</th>\n",
       "      <td>402806</td>\n",
       "      <td>272</td>\n",
       "      <td>30459.0</td>\n",
       "      <td>0.068%</td>\n",
       "      <td>75.62</td>\n",
       "      <td>111.98</td>\n",
       "    </tr>\n",
       "    <tr>\n",
       "      <th>3476</th>\n",
       "      <td>310835</td>\n",
       "      <td>187</td>\n",
       "      <td>23919.0</td>\n",
       "      <td>0.06%</td>\n",
       "      <td>76.95</td>\n",
       "      <td>127.91</td>\n",
       "    </tr>\n",
       "  </tbody>\n",
       "</table>\n",
       "</div>"
      ],
      "text/plain": [
       "            impressions  clicks     cost     CTR    CPM    eCPC\n",
       "advertiser                                                     \n",
       "1458             492353     385  33969.0  0.078%  68.99   88.23\n",
       "2259             133673      43  12428.0  0.032%  92.97  289.02\n",
       "2261             110122      36   9874.0  0.033%  89.66  274.28\n",
       "2821             211366     131  18828.0  0.062%  89.08  143.73\n",
       "2997              49829     217   3129.0  0.435%  62.79   14.42\n",
       "3358             264956     202  22447.0  0.076%  84.72  111.12\n",
       "3386             455041     320  34932.0   0.07%  76.77  109.16\n",
       "3427             402806     272  30459.0  0.068%  75.62  111.98\n",
       "3476             310835     187  23919.0   0.06%  76.95  127.91"
      ]
     },
     "execution_count": 8,
     "metadata": {},
     "output_type": "execute_result"
    }
   ],
   "source": [
    "sta_eva(ori_train)"
   ]
  },
  {
   "cell_type": "code",
   "execution_count": 9,
   "metadata": {},
   "outputs": [
    {
     "data": {
      "text/html": [
       "<div>\n",
       "<style>\n",
       "    .dataframe thead tr:only-child th {\n",
       "        text-align: right;\n",
       "    }\n",
       "\n",
       "    .dataframe thead th {\n",
       "        text-align: left;\n",
       "    }\n",
       "\n",
       "    .dataframe tbody tr th {\n",
       "        vertical-align: top;\n",
       "    }\n",
       "</style>\n",
       "<table border=\"1\" class=\"dataframe\">\n",
       "  <thead>\n",
       "    <tr style=\"text-align: right;\">\n",
       "      <th></th>\n",
       "      <th>impressions</th>\n",
       "      <th>clicks</th>\n",
       "      <th>cost</th>\n",
       "      <th>CTR</th>\n",
       "      <th>CPM</th>\n",
       "      <th>eCPC</th>\n",
       "    </tr>\n",
       "    <tr>\n",
       "      <th>advertiser</th>\n",
       "      <th></th>\n",
       "      <th></th>\n",
       "      <th></th>\n",
       "      <th></th>\n",
       "      <th></th>\n",
       "      <th></th>\n",
       "    </tr>\n",
       "  </thead>\n",
       "  <tbody>\n",
       "    <tr>\n",
       "      <th>1458</th>\n",
       "      <td>62353</td>\n",
       "      <td>49</td>\n",
       "      <td>4295.0</td>\n",
       "      <td>0.079%</td>\n",
       "      <td>68.88</td>\n",
       "      <td>87.65</td>\n",
       "    </tr>\n",
       "    <tr>\n",
       "      <th>2259</th>\n",
       "      <td>16715</td>\n",
       "      <td>2</td>\n",
       "      <td>1569.0</td>\n",
       "      <td>0.012%</td>\n",
       "      <td>93.87</td>\n",
       "      <td>784.5</td>\n",
       "    </tr>\n",
       "    <tr>\n",
       "      <th>2261</th>\n",
       "      <td>13550</td>\n",
       "      <td>3</td>\n",
       "      <td>1215.0</td>\n",
       "      <td>0.022%</td>\n",
       "      <td>89.67</td>\n",
       "      <td>405.0</td>\n",
       "    </tr>\n",
       "    <tr>\n",
       "      <th>2821</th>\n",
       "      <td>26503</td>\n",
       "      <td>23</td>\n",
       "      <td>2395.0</td>\n",
       "      <td>0.087%</td>\n",
       "      <td>90.37</td>\n",
       "      <td>104.13</td>\n",
       "    </tr>\n",
       "    <tr>\n",
       "      <th>2997</th>\n",
       "      <td>6176</td>\n",
       "      <td>26</td>\n",
       "      <td>389.0</td>\n",
       "      <td>0.421%</td>\n",
       "      <td>62.99</td>\n",
       "      <td>14.96</td>\n",
       "    </tr>\n",
       "    <tr>\n",
       "      <th>3358</th>\n",
       "      <td>32939</td>\n",
       "      <td>23</td>\n",
       "      <td>2794.0</td>\n",
       "      <td>0.07%</td>\n",
       "      <td>84.82</td>\n",
       "      <td>121.48</td>\n",
       "    </tr>\n",
       "    <tr>\n",
       "      <th>3386</th>\n",
       "      <td>56665</td>\n",
       "      <td>28</td>\n",
       "      <td>4351.0</td>\n",
       "      <td>0.049%</td>\n",
       "      <td>76.78</td>\n",
       "      <td>155.39</td>\n",
       "    </tr>\n",
       "    <tr>\n",
       "      <th>3427</th>\n",
       "      <td>50183</td>\n",
       "      <td>37</td>\n",
       "      <td>3777.0</td>\n",
       "      <td>0.074%</td>\n",
       "      <td>75.26</td>\n",
       "      <td>102.08</td>\n",
       "    </tr>\n",
       "    <tr>\n",
       "      <th>3476</th>\n",
       "      <td>38841</td>\n",
       "      <td>11</td>\n",
       "      <td>2994.0</td>\n",
       "      <td>0.028%</td>\n",
       "      <td>77.08</td>\n",
       "      <td>272.18</td>\n",
       "    </tr>\n",
       "  </tbody>\n",
       "</table>\n",
       "</div>"
      ],
      "text/plain": [
       "            impressions  clicks    cost     CTR    CPM    eCPC\n",
       "advertiser                                                    \n",
       "1458              62353      49  4295.0  0.079%  68.88   87.65\n",
       "2259              16715       2  1569.0  0.012%  93.87   784.5\n",
       "2261              13550       3  1215.0  0.022%  89.67   405.0\n",
       "2821              26503      23  2395.0  0.087%  90.37  104.13\n",
       "2997               6176      26   389.0  0.421%  62.99   14.96\n",
       "3358              32939      23  2794.0   0.07%  84.82  121.48\n",
       "3386              56665      28  4351.0  0.049%  76.78  155.39\n",
       "3427              50183      37  3777.0  0.074%  75.26  102.08\n",
       "3476              38841      11  2994.0  0.028%  77.08  272.18"
      ]
     },
     "execution_count": 9,
     "metadata": {},
     "output_type": "execute_result"
    }
   ],
   "source": [
    "sta_eva(ori_val)"
   ]
  },
  {
   "cell_type": "code",
   "execution_count": 10,
   "metadata": {},
   "outputs": [
    {
     "data": {
      "text/plain": [
       "<matplotlib.text.Text at 0x10f697048>"
      ]
     },
     "execution_count": 10,
     "metadata": {},
     "output_type": "execute_result"
    },
    {
     "data": {
      "image/png": "[encoded data removed]",
      "text/plain": [
       "<matplotlib.figure.Figure at 0x111db7a20>"
      ]
     },
     "metadata": {},
     "output_type": "display_data"
    }
   ],
   "source": [
    "adexchange_CTR =pd.DataFrame()\n",
    "adexchange_CTR['adexchange'] = np.sort(ori_train.adexchange.unique())\n",
    "\n",
    "adexchange_click = ori_train.groupby(['advertiser','adexchange']).click.value_counts()\n",
    "\n",
    "adexchange_imp_ad1 = ori_train.groupby('adexchange').advertiser.value_counts()\n",
    "adexchange_imp_ad2 = ori_train.groupby('adexchange').advertiser.value_counts()\n",
    "\n",
    "adexchange_imp_ad1_cal = adexchange_imp_ad1.iloc[adexchange_imp_ad1.index.get_level_values('advertiser') == 1458].values \n",
    "adexchange_imp_ad2_cal = adexchange_imp_ad2.iloc[adexchange_imp_ad2.index.get_level_values('advertiser') == 2997].values\n",
    "\n",
    "\n",
    "ad_click_ad1 = adexchange_click.iloc[adexchange_click.index.get_level_values('advertiser') == 1458]\n",
    "ad_click_ad2 = adexchange_click.iloc[adexchange_click.index.get_level_values('advertiser') == 2997]\n",
    "\n",
    "ad_click_ad1_cal = ad_click_ad1.iloc[ad_click_ad1.index.get_level_values('click') == 1].values\n",
    "ad_click_ad2_cal = ad_click_ad2.iloc[ad_click_ad2.index.get_level_values('click') == 1].values\n",
    "adexchange_CTR = adexchange_CTR.drop([3,4])\n",
    "adexchange_CTR['CTR_ad1'] = ((ad_click_ad1_cal/ adexchange_imp_ad1_cal) * 100).round(3)\n",
    "adexchange_CTR['CTR_ad2'] = ((ad_click_ad1_cal / adexchange_imp_ad2_cal) * 100).round(3)\n",
    "\n",
    "pic=plt.figure(figsize=(10,5))\n",
    "alpha_level = 0.55\n",
    "\n",
    "pic1 = pic.add_subplot(1,2,1)\n",
    "\n",
    "adexchange_CTR['CTR_ad1'].plot(kind='bar',color='blue', \n",
    "                  alpha=alpha_level)\n",
    "#pic1.set_xticklabels([\"1\", \"2\", \"3\"], rotation=0)\n",
    "plt.title(\" adexchange of advertiser 1458\")\n",
    "plt.ylabel('CTR')\n",
    "plt.xlabel('adexchange')\n",
    "\n",
    "\n",
    "pic2 = pic.add_subplot(1,2,2,sharey=pic1)   #share the same y axis with `pic1`\n",
    "\n",
    "adexchange_CTR['CTR_ad2'].plot(kind='bar',color='pink', alpha=alpha_level)\n",
    "plt.title(\"adexchange of advertiser 2997\")\n",
    "plt.xlabel('adexchange')"
   ]
  },
  {
   "cell_type": "code",
   "execution_count": 11,
   "metadata": {},
   "outputs": [
    {
     "data": {
      "text/html": [
       "<div>\n",
       "<style>\n",
       "    .dataframe thead tr:only-child th {\n",
       "        text-align: right;\n",
       "    }\n",
       "\n",
       "    .dataframe thead th {\n",
       "        text-align: left;\n",
       "    }\n",
       "\n",
       "    .dataframe tbody tr th {\n",
       "        vertical-align: top;\n",
       "    }\n",
       "</style>\n",
       "<table border=\"1\" class=\"dataframe\">\n",
       "  <thead>\n",
       "    <tr style=\"text-align: right;\">\n",
       "      <th></th>\n",
       "      <th>adexchange</th>\n",
       "      <th>CTR_ad1</th>\n",
       "      <th>CTR_ad2</th>\n",
       "    </tr>\n",
       "  </thead>\n",
       "  <tbody>\n",
       "    <tr>\n",
       "      <th>0</th>\n",
       "      <td>1</td>\n",
       "      <td>0.081</td>\n",
       "      <td>0.269</td>\n",
       "    </tr>\n",
       "    <tr>\n",
       "      <th>1</th>\n",
       "      <td>2</td>\n",
       "      <td>0.078</td>\n",
       "      <td>0.231</td>\n",
       "    </tr>\n",
       "    <tr>\n",
       "      <th>2</th>\n",
       "      <td>3</td>\n",
       "      <td>0.076</td>\n",
       "      <td>0.273</td>\n",
       "    </tr>\n",
       "  </tbody>\n",
       "</table>\n",
       "</div>"
      ],
      "text/plain": [
       "  adexchange  CTR_ad1  CTR_ad2\n",
       "0          1    0.081    0.269\n",
       "1          2    0.078    0.231\n",
       "2          3    0.076    0.273"
      ]
     },
     "execution_count": 11,
     "metadata": {},
     "output_type": "execute_result"
    }
   ],
   "source": [
    "adexchange_CTR"
   ]
  },
  {
   "cell_type": "code",
   "execution_count": 12,
   "metadata": {},
   "outputs": [],
   "source": [
    "def plot_ctr(advertiser1,advertiser2,category):\n",
    " \n",
    "    df_clicked1 = ori_train.loc[(ori_train['advertiser']==advertiser1)]\n",
    "\n",
    "    cost_weekday1 = df_clicked1.groupby(ori_train[category])\n",
    "\n",
    "    dfeCPC1 = pd.DataFrame(cost_weekday1.sum().click/cost_weekday1.sum().logtype).rename(columns={0:advertiser1})\n",
    "    \n",
    "    df_clicked2 = ori_train.loc[(ori_train['advertiser']==advertiser2)]\n",
    "\n",
    "    cost_weekday2 = df_clicked2.groupby(ori_train[category])\n",
    "\n",
    "    dfeCPC2 = pd.DataFrame(cost_weekday2.sum().click/cost_weekday2.sum().logtype).rename(columns={0:advertiser2})\n",
    "    plt.figure\n",
    "    pd.concat([dfeCPC1,dfeCPC2],axis=1).plot()\n",
    "    plt.ylabel('CTR')"
   ]
  },
  {
   "cell_type": "code",
   "execution_count": 13,
   "metadata": {
    "scrolled": true
   },
   "outputs": [
    {
     "data": {
      "image/png": "[encoded data removed]",
      "text/plain": [
       "<matplotlib.figure.Figure at 0x10f7310b8>"
      ]
     },
     "metadata": {},
     "output_type": "display_data"
    },
    {
     "data": {
      "image/png": "[encoded data removed]",
      "text/plain": [
       "<matplotlib.figure.Figure at 0x111dfd5c0>"
      ]
     },
     "metadata": {},
     "output_type": "display_data"
    },
    {
     "data": {
      "image/png": "[encoded data removed]",
      "text/plain": [
       "<matplotlib.figure.Figure at 0x11361bb70>"
      ]
     },
     "metadata": {},
     "output_type": "display_data"
    },
    {
     "data": {
      "image/png": "[encoded data removed]",
      "text/plain": [
       "<matplotlib.figure.Figure at 0x11347cfd0>"
      ]
     },
     "metadata": {},
     "output_type": "display_data"
    },
    {
     "data": {
      "image/png": "[encoded data removed]",
      "text/plain": [
       "<matplotlib.figure.Figure at 0x11423ff98>"
      ]
     },
     "metadata": {},
     "output_type": "display_data"
    },
    {
     "data": {
      "image/png": "[encoded data removed]",
      "text/plain": [
       "<matplotlib.figure.Figure at 0x1136e3780>"
      ]
     },
     "metadata": {},
     "output_type": "display_data"
    }
   ],
   "source": [
    "plot_ctr(1458,2997,'adexchange')\n",
    "\n",
    "plot_ctr(1458,2997,'os')\n",
    "\n",
    "plot_ctr(1458,2997,'browser')\n",
    "\n",
    "plot_ctr(1458,2997,'hour')\n",
    "\n",
    "plot_ctr(1458,2997,'weekday')\n",
    "\n",
    "plot_ctr(1458,2997,'region')"
   ]
  },
  {
   "cell_type": "code",
   "execution_count": 14,
   "metadata": {
    "collapsed": true
   },
   "outputs": [],
   "source": [
    "def plot_payprice(advertiser1,advertiser2,category):\n",
    " \n",
    "    df_clicked1 = ori_train.loc[(ori_train['advertiser']==advertiser1)]\n",
    "    \n",
    "    cost_weekday1 = df_clicked1['payprice'].groupby(ori_train[category])\n",
    "\n",
    "    dfeCPC1 = pd.DataFrame(cost_weekday1.mean()).rename(columns={'payprice':advertiser1})\n",
    "    \n",
    "    df_clicked2 = ori_train.loc[(ori_train['advertiser']==advertiser2)]\n",
    "\n",
    "    cost_weekday2 = df_clicked2['payprice'].groupby(ori_train[category])\n",
    "\n",
    "    dfeCPC2 = pd.DataFrame(cost_weekday2.mean()).rename(columns={'payprice':advertiser2})\n",
    "    \n",
    "    plt.figure\n",
    "    pd.concat([dfeCPC1,dfeCPC2],axis=1).plot()\n",
    "    plt.ylabel('Price')"
   ]
  },
  {
   "cell_type": "code",
   "execution_count": 15,
   "metadata": {
    "scrolled": true
   },
   "outputs": [
    {
     "data": {
      "image/png": "[encoded data removed]",
      "text/plain": [
       "<matplotlib.figure.Figure at 0x1136fe128>"
      ]
     },
     "metadata": {},
     "output_type": "display_data"
    },
    {
     "data": {
      "image/png": "[encoded data removed]",
      "text/plain": [
       "<matplotlib.figure.Figure at 0x114662438>"
      ]
     },
     "metadata": {},
     "output_type": "display_data"
    },
    {
     "data": {
      "image/png": "[encoded data removed]",
      "text/plain": [
       "<matplotlib.figure.Figure at 0x114ce8080>"
      ]
     },
     "metadata": {},
     "output_type": "display_data"
    },
    {
     "data": {
      "image/png": "[encoded data removed]",
      "text/plain": [
       "<matplotlib.figure.Figure at 0x114dbff98>"
      ]
     },
     "metadata": {},
     "output_type": "display_data"
    },
    {
     "data": {
      "image/png": "[encoded data removed]",
      "text/plain": [
       "<matplotlib.figure.Figure at 0x1159ebc18>"
      ]
     },
     "metadata": {},
     "output_type": "display_data"
    },
    {
     "data": {
      "image/png": "[encoded data removed]",
      "text/plain": [
       "<matplotlib.figure.Figure at 0x126b408d0>"
      ]
     },
     "metadata": {},
     "output_type": "display_data"
    }
   ],
   "source": [
    "plot_payprice(1458,2997,'adexchange')\n",
    "\n",
    "plot_payprice(1458,2997,'os')\n",
    "\n",
    "plot_payprice(1458,2997,'weekday')\n",
    "\n",
    "plot_payprice(1458,2997,'hour')\n",
    "\n",
    "plot_payprice(1458,2997,'browser')\n",
    "\n",
    "plot_payprice(1458,2997,'region')"
   ]
  },
  {
   "cell_type": "code",
   "execution_count": 16,
   "metadata": {},
   "outputs": [],
   "source": [
    "def calc_eCPC(advertiser,category):\n",
    "    df_clicked = ori_train.loc[(ori_train['click']==1)]\n",
    "\n",
    "    cost_weekday = ori_train['payprice'].groupby(ori_train[category])\n",
    "    click_weekday = df_clicked['click'].groupby(ori_train[category])\n",
    "\n",
    "    dfeCPC = pd.DataFrame((cost_weekday.sum()/click_weekday.sum())/1000).rename(columns={0:'eCPC'})\n",
    "    \n",
    "    plt.figure\n",
    "    dfeCPC.plot.bar(legend=False)\n",
    "    plt.ylabel('eCPC')"
   ]
  },
  {
   "cell_type": "code",
   "execution_count": 17,
   "metadata": {
    "scrolled": true
   },
   "outputs": [
    {
     "data": {
      "image/png": "[encoded data removed]",
      "text/plain": [
       "<matplotlib.figure.Figure at 0x115d5bc18>"
      ]
     },
     "metadata": {},
     "output_type": "display_data"
    },
    {
     "data": {
      "image/png": "[encoded data removed]",
      "text/plain": [
       "<matplotlib.figure.Figure at 0x1172d5630>"
      ]
     },
     "metadata": {},
     "output_type": "display_data"
    },
    {
     "data": {
      "image/png": "[encoded data removed]",
      "text/plain": [
       "<matplotlib.figure.Figure at 0x11858b940>"
      ]
     },
     "metadata": {},
     "output_type": "display_data"
    },
    {
     "data": {
      "image/png": "[encoded data removed]",
      "text/plain": [
       "<matplotlib.figure.Figure at 0x119b56470>"
      ]
     },
     "metadata": {},
     "output_type": "display_data"
    },
    {
     "data": {
      "image/png": "[encoded data removed]",
      "text/plain": [
       "<matplotlib.figure.Figure at 0x11d4c5fd0>"
      ]
     },
     "metadata": {},
     "output_type": "display_data"
    },
    {
     "data": {
      "image/png": "[encoded data removed]",
      "text/plain": [
       "<matplotlib.figure.Figure at 0x115c2ea20>"
      ]
     },
     "metadata": {},
     "output_type": "display_data"
    }
   ],
   "source": [
    "pic2 = calc_eCPC(3358,'adexchange')\n",
    "calc_eCPC(3358,'os')\n",
    "\n",
    "calc_eCPC(3358,'weekday')\n",
    "\n",
    "calc_eCPC(3358,'hour')\n",
    "\n",
    "calc_eCPC(3358,'browser')\n",
    "\n",
    "calc_eCPC(3358,'region')"
   ]
  },
  {
   "cell_type": "markdown",
   "metadata": {},
   "source": [
    "## logistic ## "
   ]
  },
  {
   "cell_type": "code",
   "execution_count": 18,
   "metadata": {
    "collapsed": true
   },
   "outputs": [
    {
     "data": {
      "text/plain": [
       "LogisticRegression(C=1.0, class_weight=None, dual=False, fit_intercept=True,\n",
       "          intercept_scaling=1, max_iter=100, multi_class='ovr', n_jobs=1,\n",
       "          penalty='l2', random_state=None, solver='liblinear', tol=0.0001,\n",
       "          verbose=0, warm_start=False)"
      ]
     },
     "execution_count": 18,
     "metadata": {},
     "output_type": "execute_result"
    }
   ],
   "source": [
    "from sklearn.linear_model import LogisticRegression as lr\n",
    "from sklearn import metrics\n",
    "y_train = ori_train['click'].values\n",
    "y_val = ori_val['click'].values\n",
    "lr_instance = lr()\n",
    "lr_instance.fit(x_train,y_train )"
   ]
  },
  {
   "cell_type": "code",
   "execution_count": 19,
   "metadata": {
    "collapsed": true
   },
   "outputs": [],
   "source": [
    "log_val = lr_instance.predict_proba(x_val)"
   ]
  },
  {
   "cell_type": "code",
   "execution_count": 20,
   "metadata": {
    "collapsed": true
   },
   "outputs": [
    {
     "data": {
      "text/html": [
       "<div>\n",
       "<style>\n",
       "    .dataframe thead tr:only-child th {\n",
       "        text-align: right;\n",
       "    }\n",
       "\n",
       "    .dataframe thead th {\n",
       "        text-align: left;\n",
       "    }\n",
       "\n",
       "    .dataframe tbody tr th {\n",
       "        vertical-align: top;\n",
       "    }\n",
       "</style>\n",
       "<table border=\"1\" class=\"dataframe\">\n",
       "  <thead>\n",
       "    <tr style=\"text-align: right;\">\n",
       "      <th></th>\n",
       "      <th>0</th>\n",
       "      <th>1</th>\n",
       "    </tr>\n",
       "  </thead>\n",
       "  <tbody>\n",
       "    <tr>\n",
       "      <th>0</th>\n",
       "      <td>0.979411</td>\n",
       "      <td>0.020589</td>\n",
       "    </tr>\n",
       "    <tr>\n",
       "      <th>1</th>\n",
       "      <td>0.999900</td>\n",
       "      <td>0.000100</td>\n",
       "    </tr>\n",
       "    <tr>\n",
       "      <th>2</th>\n",
       "      <td>0.999863</td>\n",
       "      <td>0.000137</td>\n",
       "    </tr>\n",
       "    <tr>\n",
       "      <th>3</th>\n",
       "      <td>0.999863</td>\n",
       "      <td>0.000137</td>\n",
       "    </tr>\n",
       "    <tr>\n",
       "      <th>4</th>\n",
       "      <td>0.999900</td>\n",
       "      <td>0.000100</td>\n",
       "    </tr>\n",
       "    <tr>\n",
       "      <th>5</th>\n",
       "      <td>0.999886</td>\n",
       "      <td>0.000114</td>\n",
       "    </tr>\n",
       "    <tr>\n",
       "      <th>6</th>\n",
       "      <td>0.999863</td>\n",
       "      <td>0.000137</td>\n",
       "    </tr>\n",
       "    <tr>\n",
       "      <th>7</th>\n",
       "      <td>0.999886</td>\n",
       "      <td>0.000114</td>\n",
       "    </tr>\n",
       "    <tr>\n",
       "      <th>8</th>\n",
       "      <td>0.999900</td>\n",
       "      <td>0.000100</td>\n",
       "    </tr>\n",
       "    <tr>\n",
       "      <th>9</th>\n",
       "      <td>0.999863</td>\n",
       "      <td>0.000137</td>\n",
       "    </tr>\n",
       "    <tr>\n",
       "      <th>10</th>\n",
       "      <td>0.999886</td>\n",
       "      <td>0.000114</td>\n",
       "    </tr>\n",
       "    <tr>\n",
       "      <th>11</th>\n",
       "      <td>0.999886</td>\n",
       "      <td>0.000114</td>\n",
       "    </tr>\n",
       "    <tr>\n",
       "      <th>12</th>\n",
       "      <td>0.999886</td>\n",
       "      <td>0.000114</td>\n",
       "    </tr>\n",
       "    <tr>\n",
       "      <th>13</th>\n",
       "      <td>0.979411</td>\n",
       "      <td>0.020589</td>\n",
       "    </tr>\n",
       "    <tr>\n",
       "      <th>14</th>\n",
       "      <td>0.999873</td>\n",
       "      <td>0.000127</td>\n",
       "    </tr>\n",
       "    <tr>\n",
       "      <th>15</th>\n",
       "      <td>0.979411</td>\n",
       "      <td>0.020589</td>\n",
       "    </tr>\n",
       "    <tr>\n",
       "      <th>16</th>\n",
       "      <td>0.979411</td>\n",
       "      <td>0.020589</td>\n",
       "    </tr>\n",
       "    <tr>\n",
       "      <th>17</th>\n",
       "      <td>0.997501</td>\n",
       "      <td>0.002499</td>\n",
       "    </tr>\n",
       "    <tr>\n",
       "      <th>18</th>\n",
       "      <td>0.999863</td>\n",
       "      <td>0.000137</td>\n",
       "    </tr>\n",
       "    <tr>\n",
       "      <th>19</th>\n",
       "      <td>0.999900</td>\n",
       "      <td>0.000100</td>\n",
       "    </tr>\n",
       "    <tr>\n",
       "      <th>20</th>\n",
       "      <td>0.999886</td>\n",
       "      <td>0.000114</td>\n",
       "    </tr>\n",
       "    <tr>\n",
       "      <th>21</th>\n",
       "      <td>0.979411</td>\n",
       "      <td>0.020589</td>\n",
       "    </tr>\n",
       "    <tr>\n",
       "      <th>22</th>\n",
       "      <td>0.999863</td>\n",
       "      <td>0.000137</td>\n",
       "    </tr>\n",
       "    <tr>\n",
       "      <th>23</th>\n",
       "      <td>0.999900</td>\n",
       "      <td>0.000100</td>\n",
       "    </tr>\n",
       "    <tr>\n",
       "      <th>24</th>\n",
       "      <td>0.999873</td>\n",
       "      <td>0.000127</td>\n",
       "    </tr>\n",
       "    <tr>\n",
       "      <th>25</th>\n",
       "      <td>0.999432</td>\n",
       "      <td>0.000568</td>\n",
       "    </tr>\n",
       "    <tr>\n",
       "      <th>26</th>\n",
       "      <td>0.999886</td>\n",
       "      <td>0.000114</td>\n",
       "    </tr>\n",
       "    <tr>\n",
       "      <th>27</th>\n",
       "      <td>0.999863</td>\n",
       "      <td>0.000137</td>\n",
       "    </tr>\n",
       "    <tr>\n",
       "      <th>28</th>\n",
       "      <td>0.999900</td>\n",
       "      <td>0.000100</td>\n",
       "    </tr>\n",
       "    <tr>\n",
       "      <th>29</th>\n",
       "      <td>0.999873</td>\n",
       "      <td>0.000127</td>\n",
       "    </tr>\n",
       "    <tr>\n",
       "      <th>...</th>\n",
       "      <td>...</td>\n",
       "      <td>...</td>\n",
       "    </tr>\n",
       "    <tr>\n",
       "      <th>303895</th>\n",
       "      <td>0.999762</td>\n",
       "      <td>0.000238</td>\n",
       "    </tr>\n",
       "    <tr>\n",
       "      <th>303896</th>\n",
       "      <td>0.999924</td>\n",
       "      <td>0.000076</td>\n",
       "    </tr>\n",
       "    <tr>\n",
       "      <th>303897</th>\n",
       "      <td>0.999915</td>\n",
       "      <td>0.000085</td>\n",
       "    </tr>\n",
       "    <tr>\n",
       "      <th>303898</th>\n",
       "      <td>0.999933</td>\n",
       "      <td>0.000067</td>\n",
       "    </tr>\n",
       "    <tr>\n",
       "      <th>303899</th>\n",
       "      <td>0.986170</td>\n",
       "      <td>0.013830</td>\n",
       "    </tr>\n",
       "    <tr>\n",
       "      <th>303900</th>\n",
       "      <td>0.999915</td>\n",
       "      <td>0.000085</td>\n",
       "    </tr>\n",
       "    <tr>\n",
       "      <th>303901</th>\n",
       "      <td>0.999909</td>\n",
       "      <td>0.000091</td>\n",
       "    </tr>\n",
       "    <tr>\n",
       "      <th>303902</th>\n",
       "      <td>0.998323</td>\n",
       "      <td>0.001677</td>\n",
       "    </tr>\n",
       "    <tr>\n",
       "      <th>303903</th>\n",
       "      <td>0.999909</td>\n",
       "      <td>0.000091</td>\n",
       "    </tr>\n",
       "    <tr>\n",
       "      <th>303904</th>\n",
       "      <td>0.999621</td>\n",
       "      <td>0.000379</td>\n",
       "    </tr>\n",
       "    <tr>\n",
       "      <th>303905</th>\n",
       "      <td>0.999915</td>\n",
       "      <td>0.000085</td>\n",
       "    </tr>\n",
       "    <tr>\n",
       "      <th>303906</th>\n",
       "      <td>0.998323</td>\n",
       "      <td>0.001677</td>\n",
       "    </tr>\n",
       "    <tr>\n",
       "      <th>303907</th>\n",
       "      <td>0.998331</td>\n",
       "      <td>0.001669</td>\n",
       "    </tr>\n",
       "    <tr>\n",
       "      <th>303908</th>\n",
       "      <td>0.999915</td>\n",
       "      <td>0.000085</td>\n",
       "    </tr>\n",
       "    <tr>\n",
       "      <th>303909</th>\n",
       "      <td>0.986170</td>\n",
       "      <td>0.013830</td>\n",
       "    </tr>\n",
       "    <tr>\n",
       "      <th>303910</th>\n",
       "      <td>0.999915</td>\n",
       "      <td>0.000085</td>\n",
       "    </tr>\n",
       "    <tr>\n",
       "      <th>303911</th>\n",
       "      <td>0.999933</td>\n",
       "      <td>0.000067</td>\n",
       "    </tr>\n",
       "    <tr>\n",
       "      <th>303912</th>\n",
       "      <td>0.999924</td>\n",
       "      <td>0.000076</td>\n",
       "    </tr>\n",
       "    <tr>\n",
       "      <th>303913</th>\n",
       "      <td>0.999924</td>\n",
       "      <td>0.000076</td>\n",
       "    </tr>\n",
       "    <tr>\n",
       "      <th>303914</th>\n",
       "      <td>0.999924</td>\n",
       "      <td>0.000076</td>\n",
       "    </tr>\n",
       "    <tr>\n",
       "      <th>303915</th>\n",
       "      <td>0.986170</td>\n",
       "      <td>0.013830</td>\n",
       "    </tr>\n",
       "    <tr>\n",
       "      <th>303916</th>\n",
       "      <td>0.999915</td>\n",
       "      <td>0.000085</td>\n",
       "    </tr>\n",
       "    <tr>\n",
       "      <th>303917</th>\n",
       "      <td>0.999909</td>\n",
       "      <td>0.000091</td>\n",
       "    </tr>\n",
       "    <tr>\n",
       "      <th>303918</th>\n",
       "      <td>0.999915</td>\n",
       "      <td>0.000085</td>\n",
       "    </tr>\n",
       "    <tr>\n",
       "      <th>303919</th>\n",
       "      <td>0.999933</td>\n",
       "      <td>0.000067</td>\n",
       "    </tr>\n",
       "    <tr>\n",
       "      <th>303920</th>\n",
       "      <td>0.999915</td>\n",
       "      <td>0.000085</td>\n",
       "    </tr>\n",
       "    <tr>\n",
       "      <th>303921</th>\n",
       "      <td>0.999621</td>\n",
       "      <td>0.000379</td>\n",
       "    </tr>\n",
       "    <tr>\n",
       "      <th>303922</th>\n",
       "      <td>0.999915</td>\n",
       "      <td>0.000085</td>\n",
       "    </tr>\n",
       "    <tr>\n",
       "      <th>303923</th>\n",
       "      <td>0.986170</td>\n",
       "      <td>0.013830</td>\n",
       "    </tr>\n",
       "    <tr>\n",
       "      <th>303924</th>\n",
       "      <td>0.999915</td>\n",
       "      <td>0.000085</td>\n",
       "    </tr>\n",
       "  </tbody>\n",
       "</table>\n",
       "<p>303925 rows × 2 columns</p>\n",
       "</div>"
      ],
      "text/plain": [
       "               0         1\n",
       "0       0.979411  0.020589\n",
       "1       0.999900  0.000100\n",
       "2       0.999863  0.000137\n",
       "3       0.999863  0.000137\n",
       "4       0.999900  0.000100\n",
       "5       0.999886  0.000114\n",
       "6       0.999863  0.000137\n",
       "7       0.999886  0.000114\n",
       "8       0.999900  0.000100\n",
       "9       0.999863  0.000137\n",
       "10      0.999886  0.000114\n",
       "11      0.999886  0.000114\n",
       "12      0.999886  0.000114\n",
       "13      0.979411  0.020589\n",
       "14      0.999873  0.000127\n",
       "15      0.979411  0.020589\n",
       "16      0.979411  0.020589\n",
       "17      0.997501  0.002499\n",
       "18      0.999863  0.000137\n",
       "19      0.999900  0.000100\n",
       "20      0.999886  0.000114\n",
       "21      0.979411  0.020589\n",
       "22      0.999863  0.000137\n",
       "23      0.999900  0.000100\n",
       "24      0.999873  0.000127\n",
       "25      0.999432  0.000568\n",
       "26      0.999886  0.000114\n",
       "27      0.999863  0.000137\n",
       "28      0.999900  0.000100\n",
       "29      0.999873  0.000127\n",
       "...          ...       ...\n",
       "303895  0.999762  0.000238\n",
       "303896  0.999924  0.000076\n",
       "303897  0.999915  0.000085\n",
       "303898  0.999933  0.000067\n",
       "303899  0.986170  0.013830\n",
       "303900  0.999915  0.000085\n",
       "303901  0.999909  0.000091\n",
       "303902  0.998323  0.001677\n",
       "303903  0.999909  0.000091\n",
       "303904  0.999621  0.000379\n",
       "303905  0.999915  0.000085\n",
       "303906  0.998323  0.001677\n",
       "303907  0.998331  0.001669\n",
       "303908  0.999915  0.000085\n",
       "303909  0.986170  0.013830\n",
       "303910  0.999915  0.000085\n",
       "303911  0.999933  0.000067\n",
       "303912  0.999924  0.000076\n",
       "303913  0.999924  0.000076\n",
       "303914  0.999924  0.000076\n",
       "303915  0.986170  0.013830\n",
       "303916  0.999915  0.000085\n",
       "303917  0.999909  0.000091\n",
       "303918  0.999915  0.000085\n",
       "303919  0.999933  0.000067\n",
       "303920  0.999915  0.000085\n",
       "303921  0.999621  0.000379\n",
       "303922  0.999915  0.000085\n",
       "303923  0.986170  0.013830\n",
       "303924  0.999915  0.000085\n",
       "\n",
       "[303925 rows x 2 columns]"
      ]
     },
     "execution_count": 20,
     "metadata": {},
     "output_type": "execute_result"
    }
   ],
   "source": [
    "trainv = pd.DataFrame(log_val)\n",
    "trainv "
   ]
  },
  {
   "cell_type": "code",
   "execution_count": 21,
   "metadata": {},
   "outputs": [
    {
     "data": {
      "text/plain": [
       "0.53745293188755272"
      ]
     },
     "execution_count": 21,
     "metadata": {},
     "output_type": "execute_result"
    }
   ],
   "source": [
    "import numpy as np\n",
    "from sklearn.metrics import roc_auc_score\n",
    "y_true = ori_val['click'].values\n",
    "y_pre = trainv[1]\n",
    "auc_val_log = roc_auc_score(y_true, y_pre)\n",
    "auc_val_log"
   ]
  },
  {
   "cell_type": "code",
   "execution_count": 22,
   "metadata": {
    "scrolled": true
   },
   "outputs": [
    {
     "data": {
      "text/html": [
       "<div>\n",
       "<style>\n",
       "    .dataframe thead tr:only-child th {\n",
       "        text-align: right;\n",
       "    }\n",
       "\n",
       "    .dataframe thead th {\n",
       "        text-align: left;\n",
       "    }\n",
       "\n",
       "    .dataframe tbody tr th {\n",
       "        vertical-align: top;\n",
       "    }\n",
       "</style>\n",
       "<table border=\"1\" class=\"dataframe\">\n",
       "  <thead>\n",
       "    <tr style=\"text-align: right;\">\n",
       "      <th></th>\n",
       "      <th>0</th>\n",
       "      <th>1</th>\n",
       "      <th>pre_click</th>\n",
       "      <th>unitprice</th>\n",
       "      <th>bidprice</th>\n",
       "      <th>payprice</th>\n",
       "      <th>click</th>\n",
       "      <th>advertiser</th>\n",
       "    </tr>\n",
       "  </thead>\n",
       "  <tbody>\n",
       "    <tr>\n",
       "      <th>0</th>\n",
       "      <td>0.979411</td>\n",
       "      <td>0.020589</td>\n",
       "      <td>0.020589</td>\n",
       "      <td>27.915185</td>\n",
       "      <td>2707.772911</td>\n",
       "      <td>23</td>\n",
       "      <td>0</td>\n",
       "      <td>1458</td>\n",
       "    </tr>\n",
       "    <tr>\n",
       "      <th>1</th>\n",
       "      <td>0.999900</td>\n",
       "      <td>0.000100</td>\n",
       "      <td>0.000100</td>\n",
       "      <td>0.135916</td>\n",
       "      <td>13.183806</td>\n",
       "      <td>75</td>\n",
       "      <td>0</td>\n",
       "      <td>3476</td>\n",
       "    </tr>\n",
       "    <tr>\n",
       "      <th>2</th>\n",
       "      <td>0.999863</td>\n",
       "      <td>0.000137</td>\n",
       "      <td>0.000137</td>\n",
       "      <td>0.185782</td>\n",
       "      <td>18.020819</td>\n",
       "      <td>65</td>\n",
       "      <td>0</td>\n",
       "      <td>3358</td>\n",
       "    </tr>\n",
       "    <tr>\n",
       "      <th>3</th>\n",
       "      <td>0.999863</td>\n",
       "      <td>0.000137</td>\n",
       "      <td>0.000137</td>\n",
       "      <td>0.185782</td>\n",
       "      <td>18.020808</td>\n",
       "      <td>6</td>\n",
       "      <td>0</td>\n",
       "      <td>3358</td>\n",
       "    </tr>\n",
       "    <tr>\n",
       "      <th>4</th>\n",
       "      <td>0.999900</td>\n",
       "      <td>0.000100</td>\n",
       "      <td>0.000100</td>\n",
       "      <td>0.135915</td>\n",
       "      <td>13.183792</td>\n",
       "      <td>5</td>\n",
       "      <td>0</td>\n",
       "      <td>3476</td>\n",
       "    </tr>\n",
       "  </tbody>\n",
       "</table>\n",
       "</div>"
      ],
      "text/plain": [
       "          0         1  pre_click  unitprice     bidprice  payprice  click  \\\n",
       "0  0.979411  0.020589   0.020589  27.915185  2707.772911        23      0   \n",
       "1  0.999900  0.000100   0.000100   0.135916    13.183806        75      0   \n",
       "2  0.999863  0.000137   0.000137   0.185782    18.020819        65      0   \n",
       "3  0.999863  0.000137   0.000137   0.185782    18.020808         6      0   \n",
       "4  0.999900  0.000100   0.000100   0.135915    13.183792         5      0   \n",
       "\n",
       "   advertiser  \n",
       "0        1458  \n",
       "1        3476  \n",
       "2        3358  \n",
       "3        3358  \n",
       "4        3476  "
      ]
     },
     "execution_count": 22,
     "metadata": {},
     "output_type": "execute_result"
    }
   ],
   "source": [
    "avgCTR= ori_train['click'].mean()\n",
    "bidbase = 97\n",
    "trainv['pre_click'] = trainv[1]\n",
    "trainv['unitprice'] = trainv['pre_click'] /avgCTR\n",
    "trainv['bidprice'] =trainv['pre_click'] /avgCTR * bidbase\n",
    "trainv['payprice'] = ori_val['payprice']\n",
    "trainv['click'] = ori_val['click']\n",
    "trainv['advertiser'] = ori_val['advertiser']\n",
    "buyyed = trainv[trainv['bidprice']>= trainv['payprice']]\n",
    "# trainv['click'].count()\n",
    "trainv.head(5)"
   ]
  },
  {
   "cell_type": "code",
   "execution_count": 23,
   "metadata": {
    "scrolled": true
   },
   "outputs": [
    {
     "data": {
      "text/html": [
       "<div>\n",
       "<style>\n",
       "    .dataframe thead tr:only-child th {\n",
       "        text-align: right;\n",
       "    }\n",
       "\n",
       "    .dataframe thead th {\n",
       "        text-align: left;\n",
       "    }\n",
       "\n",
       "    .dataframe tbody tr th {\n",
       "        vertical-align: top;\n",
       "    }\n",
       "</style>\n",
       "<table border=\"1\" class=\"dataframe\">\n",
       "  <thead>\n",
       "    <tr style=\"text-align: right;\">\n",
       "      <th></th>\n",
       "      <th>0</th>\n",
       "      <th>1</th>\n",
       "      <th>pre_click</th>\n",
       "      <th>unitprice</th>\n",
       "      <th>bidprice</th>\n",
       "      <th>payprice</th>\n",
       "      <th>click</th>\n",
       "      <th>advertiser</th>\n",
       "    </tr>\n",
       "  </thead>\n",
       "  <tbody>\n",
       "    <tr>\n",
       "      <th>0</th>\n",
       "      <td>0.979411</td>\n",
       "      <td>0.020589</td>\n",
       "      <td>0.020589</td>\n",
       "      <td>27.915185</td>\n",
       "      <td>2707.772911</td>\n",
       "      <td>23</td>\n",
       "      <td>0</td>\n",
       "      <td>1458</td>\n",
       "    </tr>\n",
       "    <tr>\n",
       "      <th>3</th>\n",
       "      <td>0.999863</td>\n",
       "      <td>0.000137</td>\n",
       "      <td>0.000137</td>\n",
       "      <td>0.185782</td>\n",
       "      <td>18.020808</td>\n",
       "      <td>6</td>\n",
       "      <td>0</td>\n",
       "      <td>3358</td>\n",
       "    </tr>\n",
       "    <tr>\n",
       "      <th>4</th>\n",
       "      <td>0.999900</td>\n",
       "      <td>0.000100</td>\n",
       "      <td>0.000100</td>\n",
       "      <td>0.135915</td>\n",
       "      <td>13.183792</td>\n",
       "      <td>5</td>\n",
       "      <td>0</td>\n",
       "      <td>3476</td>\n",
       "    </tr>\n",
       "    <tr>\n",
       "      <th>13</th>\n",
       "      <td>0.979411</td>\n",
       "      <td>0.020589</td>\n",
       "      <td>0.020589</td>\n",
       "      <td>27.914639</td>\n",
       "      <td>2707.720006</td>\n",
       "      <td>110</td>\n",
       "      <td>0</td>\n",
       "      <td>1458</td>\n",
       "    </tr>\n",
       "    <tr>\n",
       "      <th>15</th>\n",
       "      <td>0.979411</td>\n",
       "      <td>0.020589</td>\n",
       "      <td>0.020589</td>\n",
       "      <td>27.914583</td>\n",
       "      <td>2707.714596</td>\n",
       "      <td>16</td>\n",
       "      <td>0</td>\n",
       "      <td>1458</td>\n",
       "    </tr>\n",
       "  </tbody>\n",
       "</table>\n",
       "</div>"
      ],
      "text/plain": [
       "           0         1  pre_click  unitprice     bidprice  payprice  click  \\\n",
       "0   0.979411  0.020589   0.020589  27.915185  2707.772911        23      0   \n",
       "3   0.999863  0.000137   0.000137   0.185782    18.020808         6      0   \n",
       "4   0.999900  0.000100   0.000100   0.135915    13.183792         5      0   \n",
       "13  0.979411  0.020589   0.020589  27.914639  2707.720006       110      0   \n",
       "15  0.979411  0.020589   0.020589  27.914583  2707.714596        16      0   \n",
       "\n",
       "    advertiser  \n",
       "0         1458  \n",
       "3         3358  \n",
       "4         3476  \n",
       "13        1458  \n",
       "15        1458  "
      ]
     },
     "execution_count": 23,
     "metadata": {},
     "output_type": "execute_result"
    }
   ],
   "source": [
    "buyyed.head(5)"
   ]
  },
  {
   "cell_type": "code",
   "execution_count": 24,
   "metadata": {},
   "outputs": [
    {
     "data": {
      "text/plain": [
       "(0.000574566962399662, 68, 7374141, 108.44325, 62307.90874524715)"
      ]
     },
     "execution_count": 24,
     "metadata": {},
     "output_type": "execute_result"
    }
   ],
   "source": [
    "def evaluate(data):\n",
    "    buyyed = data[data['bidprice']>= data['payprice']]\n",
    "    ctr,clicks,cost = buyyed['click'].mean(),buyyed['click'].sum(),buyyed['payprice'].sum()\n",
    "    CPC = cost/clicks/1000\n",
    "    CPM = cost /buyyed['click'].count() *1000\n",
    "    return ctr,clicks,cost,CPC,CPM \n",
    "eval_val = evaluate(trainv)\n",
    "eval_val"
   ]
  },
  {
   "cell_type": "markdown",
   "metadata": {},
   "source": [
    "## xgboost1 with tag  ##"
   ]
  },
  {
   "cell_type": "code",
   "execution_count": 25,
   "metadata": {
    "scrolled": true
   },
   "outputs": [
    {
     "name": "stderr",
     "output_type": "stream",
     "text": [
      "/Users/fanwen/anaconda3/lib/python3.6/site-packages/sklearn/cross_validation.py:41: DeprecationWarning: This module was deprecated in version 0.18 in favor of the model_selection module into which all the refactored classes and functions are moved. Also note that the interface of the new CV iterators are different from that of this module. This module will be removed in 0.20.\n",
      "  \"This module will be removed in 0.20.\", DeprecationWarning)\n",
      "/Users/fanwen/anaconda3/lib/python3.6/site-packages/sklearn/grid_search.py:42: DeprecationWarning: This module was deprecated in version 0.18 in favor of the model_selection module into which all the refactored classes and functions are moved. This module will be removed in 0.20.\n",
      "  DeprecationWarning)\n"
     ]
    }
   ],
   "source": [
    "import xgboost as xgb\n",
    "from sklearn.cross_validation import StratifiedKFold\n",
    "from sklearn.grid_search import GridSearchCV\n",
    "from sklearn.cross_validation import train_test_split\n",
    "from sklearn.ensemble import RandomForestClassifier\n"
   ]
  },
  {
   "cell_type": "code",
   "execution_count": null,
   "metadata": {
    "collapsed": true
   },
   "outputs": [],
   "source": [
    "y_train = ori_train['click'].values\n",
    "y_val = ori_val['click'].values"
   ]
  },
  {
   "cell_type": "code",
   "execution_count": null,
   "metadata": {
    "collapsed": true
   },
   "outputs": [],
   "source": [
    "xgb_model = xgb.XGBClassifier()\n",
    "parameters = {'nthread':[1] \n",
    "              'objective':['binary:logistic'],\n",
    "              'learning_rate':[0.1],\n",
    "              'max_depth':[10,11,12],\n",
    "              'min_child_weight':[11],\n",
    "              'silent':[1],\n",
    "              'subsample':[0.7],\n",
    "              'colsample_bytree':[1],\n",
    "              'n_estimators':[50,70,100],\n",
    "              'missing':[-999],\n",
    "              'seed':[1337]\n",
    "             }"
   ]
  },
  {
   "cell_type": "code",
   "execution_count": null,
   "metadata": {
    "scrolled": true
   },
   "outputs": [],
   "source": [
    "# model_1 = GridSearchCV(xgb_model, param_grid=parameters, n_jobs=5,\n",
    "#                        cv=StratifiedKFold(y_train, n_folds=5,shuffle=True),\n",
    "#                        scoring='roc_auc',\n",
    "#                        verbose=2,\n",
    "#                        refit=True)\n",
    "# model_1.fit(x_train, y_train)"
   ]
  },
  {
   "cell_type": "code",
   "execution_count": null,
   "metadata": {},
   "outputs": [],
   "source": [
    "from sklearn.externals import joblib\n",
    "# Save\n",
    "joblib.dump(model_1, 'xg1.pkl')\n",
    "# restore\n",
    "model_1 = joblib.load('xg1.pkl')\n",
    "print(model_1.predict(x_val[0:4]))"
   ]
  },
  {
   "cell_type": "code",
   "execution_count": null,
   "metadata": {},
   "outputs": [],
   "source": [
    "best_parameters, score, _ = max(model_1.grid_scores_, key=lambda x:x[1])\n",
    "print('Raw Auc score', score)\n",
    "\n",
    "for param_name in sorted(best_parameters.keys()):\n",
    "    print(\"%s: %r\"%(param_name, best_parameters[param_name]))"
   ]
  },
  {
   "cell_type": "code",
   "execution_count": null,
   "metadata": {
    "collapsed": true
   },
   "outputs": [],
   "source": []
  }
 ],
 "metadata": {
  "kernelspec": {
   "display_name": "Python 3",
   "language": "python",
   "name": "python3"
  },
  "language_info": {
   "codemirror_mode": {
    "name": "ipython",
    "version": 3
   },
   "file_extension": ".py",
   "mimetype": "text/x-python",
   "name": "python",
   "nbconvert_exporter": "python",
   "pygments_lexer": "ipython3",
   "version": "3.6.2"
  }
 },
 "nbformat": 4,
 "nbformat_minor": 2
}
