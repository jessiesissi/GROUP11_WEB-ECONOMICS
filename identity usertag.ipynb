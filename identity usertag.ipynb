{
 "cells": [
  {
   "cell_type": "code",
   "execution_count": 23,
   "metadata": {},
   "outputs": [],
   "source": [
    "import pandas as pd\n",
    "import matplotlib.pyplot as plt\n",
    "import numpy as np\n",
    "import seaborn as sns\n",
    "from sklearn.preprocessing import LabelEncoder\n",
    "from pandas import DataFrame as df\n",
    "%matplotlib inline"
   ]
  },
  {
   "cell_type": "code",
   "execution_count": 24,
   "metadata": {},
   "outputs": [],
   "source": [
    "train_original = pd.read_csv('train.csv')\n",
    "validation_original = pd.read_csv('validation.csv')\n",
    "test_original = pd.read_csv('test.csv')"
   ]
  },
  {
   "cell_type": "code",
   "execution_count": 25,
   "metadata": {},
   "outputs": [],
   "source": [
    "# split os and browser\n",
    "def split_useragent_os(data):\n",
    "    return data.split('_')[0]\n",
    "def split_useragent_b(data):\n",
    "    return data.split('_')[1]\n",
    "def split_useragent(dataframe):\n",
    "    dataframe['os'] = dataframe['useragent'].apply(split_useragent_os)\n",
    "    dataframe['browser'] = dataframe['useragent'].apply(split_useragent_b)\n",
    "    dataframe.drop(['useragent'], axis=1, inplace=True)"
   ]
  },
  {
   "cell_type": "code",
   "execution_count": 26,
   "metadata": {},
   "outputs": [],
   "source": [
    "# original data now has os and browser columns\n",
    "split_useragent(train_original)\n",
    "split_useragent(validation_original)\n",
    "split_useragent(test_original)"
   ]
  },
  {
   "cell_type": "code",
   "execution_count": 33,
   "metadata": {},
   "outputs": [],
   "source": [
    "#drop meaningless columns and the columns not in testdata\n",
    "train_to_drop = ['city','slotid','slotprice','IP','domain','usertag','creative','bidid','userid','url','urlid','bidprice','payprice','keypage']\n",
    "test_to_drop = ['city','slotid','slotprice','IP','domain','usertag','creative','bidid','userid','url','urlid','keypage']\n",
    "train_drop = train_original.drop(train_to_drop, axis=1)\n",
    "validation_drop = validation_original.drop(train_to_drop, axis=1)\n",
    "test_drop = test_original.drop(test_to_drop, axis=1)"
   ]
  },
  {
   "cell_type": "code",
   "execution_count": 34,
   "metadata": {},
   "outputs": [],
   "source": [
    "#make the catagorical data into one hot format : eg monday ->[ 1, 0, 0 ,0 ,0 ,0 ,0 ]\n",
    "def onehot(onehot_df, column_name):\n",
    "    dummies = pd.get_dummies(onehot_df[column_name],prefix=column_name)\n",
    "    onehot_df = onehot_df.join(dummies)\n",
    "    onehot_df = onehot_df.drop([column_name], axis=1)\n",
    "    return onehot_df\n",
    "column_to_onehot = ['weekday','hour','region','adexchange','slotformat','os','browser','slotwidth','slotheight','slotvisibility']\n",
    "for col_name in column_to_onehot:\n",
    "    train_drop = onehot(train_drop, col_name)\n",
    "    validation_drop = onehot(validation_drop, col_name)\n",
    "    test_drop = onehot(test_drop , col_name)"
   ]
  },
  {
   "cell_type": "code",
   "execution_count": null,
   "metadata": {},
   "outputs": [],
   "source": [
    "# def getAllUserTag():\n",
    "#     taglist = []\n",
    "#     for tags in df_train_original[\"usertag\"].values:\n",
    "#         #print(type(tags))\n",
    "#         if type(tags)is str:\n",
    "#             t = tags.split(',')\n",
    "           \n",
    "#             taglist.extend(t)\n",
    "#     tagset = set(taglist)\n",
    "#     return tagset\n",
    "# tagset = getAllUserTag()\n",
    "\n",
    "\n",
    "# def addUserTagOneHot(sourceData,tagset):\n",
    "#     sourceData = sourceData.copy()\n",
    "#     usertagColumn = sourceData[\"usertag\"].values\n",
    "#     for tag in tagset:\n",
    "#         sourceData[tag]=0\n",
    "\n",
    "#     return sourceData\n",
    "# addZeroTag = addUserTagOneHot(df_train_original,tagset)\n",
    "\n",
    "# usertagColumn = addZeroTag[\"usertag\"].values\n",
    "# for i in range(len(usertagColumn)):\n",
    "#     tags = usertagColumn[i]\n",
    "#     if type(tags)is str:\n",
    "#         t = tags.split(',')\n",
    "#         for tag in t:\n",
    "#             addZeroTag.iloc[i][t] =1"
   ]
  },
  {
   "cell_type": "code",
   "execution_count": 29,
   "metadata": {},
   "outputs": [],
   "source": [
    "train_usertag = pd.read_csv('train_usertag.csv')\n",
    "validation_usertag = pd.read_csv('validation_usertag.csv')\n",
    "test_usertag = pd.read_csv('test_usertag.csv')"
   ]
  },
  {
   "cell_type": "code",
   "execution_count": 48,
   "metadata": {},
   "outputs": [],
   "source": [
    "#train_drop = pd.concat([train_drop, train_usertag], axis=1, join_axes=[train_drop.index])\n",
    "test_drop = pd.concat([test_drop, test_usertag], axis=1, join_axes=[test_drop.index])\n",
    "val_drop = pd.concat([validation_drop, validation_usertag], axis=1, join_axes=[validation_drop.index])"
   ]
  },
  {
   "cell_type": "code",
   "execution_count": 37,
   "metadata": {},
   "outputs": [
    {
     "data": {
      "text/html": [
       "<div>\n",
       "<style>\n",
       "    .dataframe thead tr:only-child th {\n",
       "        text-align: right;\n",
       "    }\n",
       "\n",
       "    .dataframe thead th {\n",
       "        text-align: left;\n",
       "    }\n",
       "\n",
       "    .dataframe tbody tr th {\n",
       "        vertical-align: top;\n",
       "    }\n",
       "</style>\n",
       "<table border=\"1\" class=\"dataframe\">\n",
       "  <thead>\n",
       "    <tr style=\"text-align: right;\">\n",
       "      <th></th>\n",
       "      <th>click</th>\n",
       "      <th>advertiser</th>\n",
       "      <th>weekday_0</th>\n",
       "      <th>weekday_1</th>\n",
       "      <th>weekday_2</th>\n",
       "      <th>weekday_3</th>\n",
       "      <th>weekday_4</th>\n",
       "      <th>weekday_5</th>\n",
       "      <th>weekday_6</th>\n",
       "      <th>hour_0</th>\n",
       "      <th>...</th>\n",
       "      <th>13403</th>\n",
       "      <th>10133</th>\n",
       "      <th>10074</th>\n",
       "      <th>13678</th>\n",
       "      <th>10145</th>\n",
       "      <th>10076</th>\n",
       "      <th>16617</th>\n",
       "      <th>13042</th>\n",
       "      <th>11632</th>\n",
       "      <th>10110</th>\n",
       "    </tr>\n",
       "  </thead>\n",
       "  <tbody>\n",
       "    <tr>\n",
       "      <th>0</th>\n",
       "      <td>0</td>\n",
       "      <td>3427</td>\n",
       "      <td>0</td>\n",
       "      <td>0</td>\n",
       "      <td>0</td>\n",
       "      <td>0</td>\n",
       "      <td>0</td>\n",
       "      <td>1</td>\n",
       "      <td>0</td>\n",
       "      <td>0</td>\n",
       "      <td>...</td>\n",
       "      <td>0</td>\n",
       "      <td>0</td>\n",
       "      <td>0</td>\n",
       "      <td>0</td>\n",
       "      <td>0</td>\n",
       "      <td>0</td>\n",
       "      <td>0</td>\n",
       "      <td>0</td>\n",
       "      <td>0</td>\n",
       "      <td>0</td>\n",
       "    </tr>\n",
       "    <tr>\n",
       "      <th>1</th>\n",
       "      <td>0</td>\n",
       "      <td>2821</td>\n",
       "      <td>0</td>\n",
       "      <td>1</td>\n",
       "      <td>0</td>\n",
       "      <td>0</td>\n",
       "      <td>0</td>\n",
       "      <td>0</td>\n",
       "      <td>0</td>\n",
       "      <td>0</td>\n",
       "      <td>...</td>\n",
       "      <td>0</td>\n",
       "      <td>0</td>\n",
       "      <td>0</td>\n",
       "      <td>0</td>\n",
       "      <td>0</td>\n",
       "      <td>0</td>\n",
       "      <td>0</td>\n",
       "      <td>0</td>\n",
       "      <td>0</td>\n",
       "      <td>0</td>\n",
       "    </tr>\n",
       "    <tr>\n",
       "      <th>2</th>\n",
       "      <td>0</td>\n",
       "      <td>3427</td>\n",
       "      <td>0</td>\n",
       "      <td>0</td>\n",
       "      <td>0</td>\n",
       "      <td>1</td>\n",
       "      <td>0</td>\n",
       "      <td>0</td>\n",
       "      <td>0</td>\n",
       "      <td>0</td>\n",
       "      <td>...</td>\n",
       "      <td>0</td>\n",
       "      <td>0</td>\n",
       "      <td>0</td>\n",
       "      <td>0</td>\n",
       "      <td>0</td>\n",
       "      <td>0</td>\n",
       "      <td>0</td>\n",
       "      <td>0</td>\n",
       "      <td>0</td>\n",
       "      <td>1</td>\n",
       "    </tr>\n",
       "    <tr>\n",
       "      <th>3</th>\n",
       "      <td>0</td>\n",
       "      <td>1458</td>\n",
       "      <td>0</td>\n",
       "      <td>0</td>\n",
       "      <td>0</td>\n",
       "      <td>0</td>\n",
       "      <td>0</td>\n",
       "      <td>0</td>\n",
       "      <td>1</td>\n",
       "      <td>0</td>\n",
       "      <td>...</td>\n",
       "      <td>0</td>\n",
       "      <td>0</td>\n",
       "      <td>0</td>\n",
       "      <td>0</td>\n",
       "      <td>0</td>\n",
       "      <td>0</td>\n",
       "      <td>0</td>\n",
       "      <td>0</td>\n",
       "      <td>0</td>\n",
       "      <td>0</td>\n",
       "    </tr>\n",
       "    <tr>\n",
       "      <th>4</th>\n",
       "      <td>0</td>\n",
       "      <td>2259</td>\n",
       "      <td>0</td>\n",
       "      <td>0</td>\n",
       "      <td>0</td>\n",
       "      <td>0</td>\n",
       "      <td>0</td>\n",
       "      <td>1</td>\n",
       "      <td>0</td>\n",
       "      <td>0</td>\n",
       "      <td>...</td>\n",
       "      <td>0</td>\n",
       "      <td>0</td>\n",
       "      <td>0</td>\n",
       "      <td>0</td>\n",
       "      <td>0</td>\n",
       "      <td>0</td>\n",
       "      <td>0</td>\n",
       "      <td>0</td>\n",
       "      <td>0</td>\n",
       "      <td>0</td>\n",
       "    </tr>\n",
       "  </tbody>\n",
       "</table>\n",
       "<p>5 rows × 207 columns</p>\n",
       "</div>"
      ],
      "text/plain": [
       "   click  advertiser  weekday_0  weekday_1  weekday_2  weekday_3  weekday_4  \\\n",
       "0      0        3427          0          0          0          0          0   \n",
       "1      0        2821          0          1          0          0          0   \n",
       "2      0        3427          0          0          0          1          0   \n",
       "3      0        1458          0          0          0          0          0   \n",
       "4      0        2259          0          0          0          0          0   \n",
       "\n",
       "   weekday_5  weekday_6  hour_0  ...    13403  10133  10074  13678  10145  \\\n",
       "0          1          0       0  ...        0      0      0      0      0   \n",
       "1          0          0       0  ...        0      0      0      0      0   \n",
       "2          0          0       0  ...        0      0      0      0      0   \n",
       "3          0          1       0  ...        0      0      0      0      0   \n",
       "4          1          0       0  ...        0      0      0      0      0   \n",
       "\n",
       "   10076  16617  13042  11632  10110  \n",
       "0      0      0      0      0      0  \n",
       "1      0      0      0      0      0  \n",
       "2      0      0      0      0      1  \n",
       "3      0      0      0      0      0  \n",
       "4      0      0      0      0      0  \n",
       "\n",
       "[5 rows x 207 columns]"
      ]
     },
     "execution_count": 37,
     "metadata": {},
     "output_type": "execute_result"
    }
   ],
   "source": [
    "train_drop[:5]"
   ]
  },
  {
   "cell_type": "code",
   "execution_count": 38,
   "metadata": {},
   "outputs": [],
   "source": [
    "def evaluate(data):\n",
    "    buyyed = data[data['bidprice']>= data['payprice']]\n",
    "    ctr,clicks,cost = buyyed['click'].mean(),buyyed['click'].sum(),buyyed['payprice'].sum()\n",
    "    CPC = cost/clicks/1000\n",
    "    CPM = cost /buyyed['click'].count() *1000\n",
    "    return ctr,clicks,cost,CPC,CPM"
   ]
  },
  {
   "cell_type": "code",
   "execution_count": 41,
   "metadata": {},
   "outputs": [],
   "source": [
    "#get two key parameter in the linear bidding function \n",
    "avgCTR1= train_original['click'].mean()\n",
    "avgCTR2= validation_original['click'].mean()\n",
    "# bidbase = df_train_original['payprice'].mean()"
   ]
  },
  {
   "cell_type": "code",
   "execution_count": 83,
   "metadata": {},
   "outputs": [
    {
     "data": {
      "text/plain": [
       "RandomForestClassifier(bootstrap=True, class_weight=None, criterion='gini',\n",
       "            max_depth=None, max_features='auto', max_leaf_nodes=None,\n",
       "            min_impurity_decrease=0.0, min_impurity_split=None,\n",
       "            min_samples_leaf=1, min_samples_split=2,\n",
       "            min_weight_fraction_leaf=0.0, n_estimators=200, n_jobs=1,\n",
       "            oob_score=False, random_state=None, verbose=0,\n",
       "            warm_start=False)"
      ]
     },
     "execution_count": 83,
     "metadata": {},
     "output_type": "execute_result"
    }
   ],
   "source": [
    "# Random Forest Classifier\n",
    "from sklearn.ensemble import RandomForestClassifier  \n",
    "RF_clf = RandomForestClassifier(n_estimators=200)\n",
    "RF_clf.fit(train_drop.drop(['click'],axis = 1), train_original['click'])"
   ]
  },
  {
   "cell_type": "code",
   "execution_count": 84,
   "metadata": {},
   "outputs": [],
   "source": [
    "RF_clf_r = RF_clf.predict_proba(train_drop.drop(['click'],axis = 1).values[:])\n",
    "#training set testing \n",
    "rf_clf_trainP = pd.DataFrame(RF_clf_r)\n",
    "rf_clf_trainP['bidprice'] = rf_clf_trainP[1]\n",
    "rf_clf_trainP['unitprice'] = rf_clf_trainP['bidprice'] /avgCTR \n",
    "\n",
    "rf_clf_trainP['bidprice'] =rf_clf_trainP['bidprice'] /avgCTR * 100\n",
    "rf_clf_trainP['payprice'] = train_original['payprice']\n",
    "rf_clf_trainP['click'] = train_original['click']"
   ]
  },
  {
   "cell_type": "code",
   "execution_count": 85,
   "metadata": {},
   "outputs": [
    {
     "data": {
      "text/plain": [
       "(0.026362994765629595, 1793, 5830544, 3.2518371444506413, 85728.165617832143)"
      ]
     },
     "execution_count": 85,
     "metadata": {},
     "output_type": "execute_result"
    }
   ],
   "source": [
    "evaluate(rf_clf_trainP)"
   ]
  },
  {
   "cell_type": "code",
   "execution_count": 87,
   "metadata": {},
   "outputs": [],
   "source": [
    "val_RF_clf_r = RF_clf.predict_proba(val_drop.drop(['click'],axis = 1).values[:])"
   ]
  },
  {
   "cell_type": "code",
   "execution_count": 88,
   "metadata": {},
   "outputs": [],
   "source": [
    "#tvalidation set testing\n",
    "\n",
    "val_rf_clf_trainP = pd.DataFrame(val_RF_clf_r)\n",
    "val_rf_clf_trainP['bidprice'] = val_rf_clf_trainP[1]\n",
    "val_rf_clf_trainP['unitprice'] = val_rf_clf_trainP['bidprice'] /avgCTR2\n",
    "\n",
    "val_rf_clf_trainP['bidprice'] =val_rf_clf_trainP['bidprice'] /avgCTR2 * 100\n",
    "val_rf_clf_trainP['payprice'] = validation_original['payprice']\n",
    "val_rf_clf_trainP['click'] = validation_original['click']"
   ]
  },
  {
   "cell_type": "code",
   "execution_count": 89,
   "metadata": {},
   "outputs": [
    {
     "data": {
      "text/plain": [
       "(0.004240095402146548, 96, 1909285, 19.88838541666667, 84328.651561326798)"
      ]
     },
     "execution_count": 89,
     "metadata": {},
     "output_type": "execute_result"
    }
   ],
   "source": [
    "evaluate(val_rf_clf_trainP)"
   ]
  },
  {
   "cell_type": "code",
   "execution_count": 90,
   "metadata": {},
   "outputs": [
    {
     "data": {
      "text/plain": [
       "0.71363054461134023"
      ]
     },
     "execution_count": 90,
     "metadata": {},
     "output_type": "execute_result"
    }
   ],
   "source": [
    "import numpy as np\n",
    "from sklearn.metrics import roc_auc_score\n",
    "y_true = validation_original['click'].values\n",
    "y_pre = val_rf_clf_trainP['bidprice']\n",
    "auc_val_xg1 = roc_auc_score(y_true, y_pre)\n",
    "auc_val_xg1"
   ]
  },
  {
   "cell_type": "code",
   "execution_count": 86,
   "metadata": {},
   "outputs": [
    {
     "data": {
      "text/plain": [
       "1.0"
      ]
     },
     "execution_count": 86,
     "metadata": {},
     "output_type": "execute_result"
    }
   ],
   "source": [
    "import numpy as np\n",
    "from sklearn.metrics import roc_auc_score\n",
    "y_true = train_original['click'].values\n",
    "y_pre = rf_clf_trainP['bidprice']\n",
    "auc_val_xg1 = roc_auc_score(y_true, y_pre)\n",
    "auc_val_xg1"
   ]
  },
  {
   "cell_type": "code",
   "execution_count": null,
   "metadata": {},
   "outputs": [],
   "source": [
    "###LogisticRegression"
   ]
  },
  {
   "cell_type": "code",
   "execution_count": 91,
   "metadata": {},
   "outputs": [],
   "source": [
    "from sklearn.linear_model import LogisticRegression as lr\n",
    "from sklearn import metrics\n",
    "lr_instance = lr()\n",
    "lr_instance.fit(train_drop.drop(['click'],axis = 1), train_original['click'])\n",
    "testProbability = lr_instance.predict_proba(train_drop.drop(['click'],axis = 1).values[:])"
   ]
  },
  {
   "cell_type": "code",
   "execution_count": 96,
   "metadata": {},
   "outputs": [],
   "source": [
    "testProbability = pd.DataFrame(testProbability)\n",
    "testProbability['bidprice'] = testProbability[1]\n",
    "testProbability['bidprice'] = 97 * testProbability['bidprice'] /avgCTR \n",
    "\n",
    "testProbability['payprice'] = train_original['payprice']\n",
    "testProbability['click'] = train_original['click']"
   ]
  },
  {
   "cell_type": "code",
   "execution_count": 97,
   "metadata": {},
   "outputs": [
    {
     "data": {
      "text/plain": [
       "(0.0006417989386547181, 432, 39409149, 91.22488194444443, 58548.032410846405)"
      ]
     },
     "execution_count": 97,
     "metadata": {},
     "output_type": "execute_result"
    }
   ],
   "source": [
    "evaluate(testProbability )"
   ]
  },
  {
   "cell_type": "code",
   "execution_count": 98,
   "metadata": {},
   "outputs": [
    {
     "data": {
      "text/plain": [
       "0.50333030294798631"
      ]
     },
     "execution_count": 98,
     "metadata": {},
     "output_type": "execute_result"
    }
   ],
   "source": [
    "y_true = train_original['click'].values\n",
    "y_pre = testProbability['bidprice']\n",
    "auc_val_xg1 = roc_auc_score(y_true, y_pre)\n",
    "auc_val_xg1"
   ]
  },
  {
   "cell_type": "code",
   "execution_count": 100,
   "metadata": {},
   "outputs": [],
   "source": [
    "val_testProbability = lr_instance.predict_proba(val_drop.drop(['click'],axis = 1).values[:])\n",
    "val_lr_clf = pd.DataFrame(val_testProbability)\n",
    "val_lr_clf['bidprice'] = val_lr_clf[1]\n",
    "val_lr_clf['unitprice'] = val_lr_clf['bidprice'] /avgCTR2 \n",
    "\n",
    "val_lr_clf['bidprice'] =val_lr_clf['bidprice'] /avgCTR2 * 100\n",
    "val_lr_clf['payprice'] = validation_original['payprice']\n",
    "val_lr_clf['click'] = validation_original['click']"
   ]
  },
  {
   "cell_type": "code",
   "execution_count": 101,
   "metadata": {},
   "outputs": [
    {
     "data": {
      "text/plain": [
       "(0.0005715726653778263, 68, 7425548, 109.19923529411766, 62415.29797427923)"
      ]
     },
     "execution_count": 101,
     "metadata": {},
     "output_type": "execute_result"
    }
   ],
   "source": [
    "evaluate(val_lr_clf )"
   ]
  },
  {
   "cell_type": "code",
   "execution_count": 102,
   "metadata": {},
   "outputs": [
    {
     "data": {
      "text/plain": [
       "0.53747480564869832"
      ]
     },
     "execution_count": 102,
     "metadata": {},
     "output_type": "execute_result"
    }
   ],
   "source": [
    "y_true = validation_original['click'].values\n",
    "y_pre = val_lr_clf['bidprice']\n",
    "auc_val_xg1 = roc_auc_score(y_true, y_pre)\n",
    "auc_val_xg1"
   ]
  },
  {
   "cell_type": "code",
   "execution_count": 103,
   "metadata": {},
   "outputs": [],
   "source": [
    "from sklearn.ensemble import GradientBoostingClassifier\n",
    "gb_clf = GradientBoostingClassifier()\n",
    "gb_clf.fit(train_drop.drop(['click'],axis = 1), train_original['click'])\n",
    "\n",
    "gb_val_proba = gb_clf.predict_proba(val_drop.drop(['click'],axis = 1).values[:])\n",
    "\n",
    "val_gb_clf_trainP = pd.DataFrame(gb_val_proba)\n",
    "val_gb_clf_trainP['bidprice'] = val_gb_clf_trainP[1]\n",
    "val_gb_clf_trainP['unitprice'] = val_gb_clf_trainP['bidprice'] /avgCTR2 \n",
    "\n",
    "val_gb_clf_trainP['bidprice'] = 90 * val_gb_clf_trainP['bidprice'] /avgCTR2\n",
    "val_gb_clf_trainP['payprice'] = validation_original['payprice']\n",
    "val_gb_clf_trainP['click'] = validation_original['click']"
   ]
  },
  {
   "cell_type": "code",
   "execution_count": 105,
   "metadata": {},
   "outputs": [
    {
     "data": {
      "text/plain": [
       "(0.0008915746198424884, 108, 4478452, 41.46714814814815, 36971.05684613734)"
      ]
     },
     "execution_count": 105,
     "metadata": {},
     "output_type": "execute_result"
    }
   ],
   "source": [
    "evaluate(val_gb_clf_trainP )"
   ]
  },
  {
   "cell_type": "code",
   "execution_count": 106,
   "metadata": {},
   "outputs": [
    {
     "data": {
      "text/plain": [
       "0.6540158253239019"
      ]
     },
     "execution_count": 106,
     "metadata": {},
     "output_type": "execute_result"
    }
   ],
   "source": [
    "y_true = validation_original['click'].values\n",
    "y_pre = val_gb_clf_trainP['bidprice']\n",
    "auc_val_xg1 = roc_auc_score(y_true, y_pre)\n",
    "auc_val_xg1MJ.                                                                        "
   ]
  },
  {
   "cell_type": "code",
   "execution_count": null,
   "metadata": {},
   "outputs": [],
   "source": [
    "from sklearn.ensemble import VotingClassifier\n",
    "from xgboost import XGBClassifier\n",
    "\n",
    "from xgboost.sklearn import XGBClassifier \n",
    "xgb_clf = XGBClassifier(\n",
    "    ooster='gbtree',\n",
    "    learning_rate = 0.5,\n",
    "    n_estimators=50,\n",
    "    max_depth=10,\n",
    "    min_child_weight=9,\n",
    "    gamma=0,\n",
    "    subsample=0.8,\n",
    "    colsample_bytree=0.85,\n",
    "    objective= 'binary:logistic',\n",
    "    nthread=4,\n",
    "    scale_pos_weight=1, \n",
    "    seed=27,\n",
    "    n_jobs=4)\n",
    "\n",
    "\n",
    "\n"
   ]
  },
  {
   "cell_type": "code",
   "execution_count": 112,
   "metadata": {},
   "outputs": [
    {
     "ename": "NameError",
     "evalue": "name 'val_clf' is not defined",
     "output_type": "error",
     "traceback": [
      "\u001b[0;31m---------------------------------------------------------------------------\u001b[0m",
      "\u001b[0;31mNameError\u001b[0m                                 Traceback (most recent call last)",
      "\u001b[0;32m<ipython-input-112-a8193571f38b>\u001b[0m in \u001b[0;36m<module>\u001b[0;34m()\u001b[0m\n\u001b[0;32m----> 1\u001b[0;31m \u001b[0mvalidation_clf\u001b[0m \u001b[0;34m=\u001b[0m \u001b[0mpd\u001b[0m\u001b[0;34m.\u001b[0m\u001b[0mDataFrame\u001b[0m\u001b[0;34m(\u001b[0m\u001b[0mval_clf\u001b[0m\u001b[0;34m)\u001b[0m\u001b[0;34m\u001b[0m\u001b[0m\n\u001b[0m\u001b[1;32m      2\u001b[0m \u001b[0mvalidation_clf\u001b[0m\u001b[0;34m[\u001b[0m\u001b[0;34m'bidprice'\u001b[0m\u001b[0;34m]\u001b[0m \u001b[0;34m=\u001b[0m \u001b[0mvalidation_clf\u001b[0m\u001b[0;34m[\u001b[0m\u001b[0;36m1\u001b[0m\u001b[0;34m]\u001b[0m\u001b[0;34m\u001b[0m\u001b[0m\n\u001b[1;32m      3\u001b[0m \u001b[0mvalidation_clf\u001b[0m\u001b[0;34m[\u001b[0m\u001b[0;34m'unitprice'\u001b[0m\u001b[0;34m]\u001b[0m \u001b[0;34m=\u001b[0m \u001b[0mvalidation_clf\u001b[0m\u001b[0;34m[\u001b[0m\u001b[0;34m'bidprice'\u001b[0m\u001b[0;34m]\u001b[0m \u001b[0;34m/\u001b[0m\u001b[0mavgCTR2\u001b[0m\u001b[0;34m\u001b[0m\u001b[0m\n\u001b[1;32m      4\u001b[0m \u001b[0;34m\u001b[0m\u001b[0m\n\u001b[1;32m      5\u001b[0m \u001b[0mvalidation_clf\u001b[0m\u001b[0;34m[\u001b[0m\u001b[0;34m'bidprice'\u001b[0m\u001b[0;34m]\u001b[0m \u001b[0;34m=\u001b[0m \u001b[0;36m90\u001b[0m \u001b[0;34m*\u001b[0m \u001b[0mvalidation_clf\u001b[0m\u001b[0;34m[\u001b[0m\u001b[0;34m'bidprice'\u001b[0m\u001b[0;34m]\u001b[0m \u001b[0;34m/\u001b[0m\u001b[0mavgCTR2\u001b[0m\u001b[0;34m\u001b[0m\u001b[0m\n",
      "\u001b[0;31mNameError\u001b[0m: name 'val_clf' is not defined"
     ]
    }
   ],
   "source": [
    "validation_clf = pd.DataFrame(xgb_clf)\n",
    "validation_clf['bidprice'] = validation_clf[1]\n",
    "validation_clf['unitprice'] = validation_clf['bidprice'] /avgCTR2 \n",
    "\n",
    "validation_clf['bidprice'] = 97 * validation_clf['bidprice'] /avgCTR2\n",
    "validation_clf['payprice'] = validation_original['payprice']\n",
    "validation_clf['click'] = validation_original['click']"
   ]
  },
  {
   "cell_type": "code",
   "execution_count": null,
   "metadata": {},
   "outputs": [],
   "source": [
    "y_true = validation_original['click'].values\n",
    "y_pre = validation_clf['bidprice']\n",
    "auc_val_xg1 = roc_auc_score(y_true, y_pre)\n",
    "auc_val_xg1MJ.  "
   ]
  }
 ],
 "metadata": {
  "kernelspec": {
   "display_name": "Python 3",
   "language": "python",
   "name": "python3"
  },
  "language_info": {
   "codemirror_mode": {
    "name": "ipython",
    "version": 3
   },
   "file_extension": ".py",
   "mimetype": "text/x-python",
   "name": "python",
   "nbconvert_exporter": "python",
   "pygments_lexer": "ipython3",
   "version": "3.6.2"
  }
 },
 "nbformat": 4,
 "nbformat_minor": 2
}
